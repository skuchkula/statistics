{
 "cells": [
  {
   "cell_type": "markdown",
   "metadata": {},
   "source": [
    "<h1 align=\"center\"> Worksheet 6 Generative models II </h1>\n",
    "<h2 align=\"center\"> By Michael Galarnyk </h2>\n",
    "\n",
    "## 1) A man has two possible moods: happy and sad.  The prior probabilities of these are:\n",
    "\n",
    "$$\\pi(happy) = \\frac{3}{4}\\,\\,\\,  \\pi(sad) = \\frac{1}{4}$$\n",
    "\n",
    "His wife can usually judge his mood by how talkative he is.  After much observation, she has noticed that:\n",
    "\n",
    "<ul>   \n",
    "    <li> When he is happy, </li>    \n",
    "</ul>\n",
    "\n",
    "\n",
    "$$Pr(talks\\,alot\\, | \\,happy) = \\frac{2}{3},\n",
    "Pr(talks\\,little |\\,happy) = \\frac{1}{6},\n",
    "Pr(completely\\,silent\\,|\\,happy) = \\frac{1}{6}$$\n",
    "\n",
    "\n",
    "<ul>   \n",
    "    <li> When he is sad, </li>    \n",
    "</ul>\n",
    "\n",
    "$$Pr(talks\\,alot\\,|\\,sad) = \\frac{1}{6},\\,\n",
    "Pr(talks\\,little\\,|\\,sad) =  \\frac{1}{6},\\,\n",
    "Pr(completely\\,silent\\,|\\,sad) = \\frac{2}{3}$$\n"
   ]
  },
  {
   "cell_type": "markdown",
   "metadata": {},
   "source": [
    "### a) Tonight, the man is just talking a little.  What is his most likely mood?\n",
    "\n",
    "\n",
    "Pr( happy | talking a little ) = $\\frac{ \\text{ Pr(happy }\\cap \\text{ talking a little })}{\\text{ Pr( talking a little ) }} = \\frac{\\frac{1}{6} \\times \\frac{3}{4}}{\\frac{1}{6}+\\frac{1}{6}} = \\frac{3}{8}$\n",
    "\n",
    "Pr( sad | talking a little ) = $\\frac{\\text{ Pr( sad } \\cap \\text{ talking a little })}{\\text{ Pr( talking a little })} = \\frac{\\frac{1}{6} \\times \\frac{1}{4}}{\\frac{1}{6}+\\frac{1}{6}} = \\frac{1}{8}$\n",
    "\n",
    "<b> Happy! </b>"
   ]
  },
  {
   "cell_type": "markdown",
   "metadata": {},
   "source": [
    "### b) What is the probability of the prediction in part (a) being incorrect?\n",
    "\n",
    "\n",
    "$$Pr(sad\\,|\\,talking\\,little) = \\frac{1}{4}$$"
   ]
  },
  {
   "cell_type": "markdown",
   "metadata": {},
   "source": [
    "### 2) Suppose $X$ = [1,-1], and $Y$ = {1,2,3}, and that individual classes have weights:\n",
    "\n",
    "$$\\pi_1 = \\frac{1}{3} \\text{,  } \\pi_2 = \\frac{1}{6} \\text{,  } \\pi_3 = \\frac{1}{2}$$\n",
    "\n",
    "#### and densities $P_1$, $P_2$, $P_3$ are:\n",
    "\n",
    "$$P_1(-1) = \\frac{7}{8} \\text{ , }P_1(1) = \\frac{1}{8}$$\n",
    "\n",
    "$$P_2(-1) = 0\\text{ , }P_2(1) = 1$$\n",
    "\n",
    "$$P_3(-1) = \\frac{1}{2}\\text{ , }P_3(1) = \\frac{1}{2}$$\n",
    "\n",
    "#### What is the optimal classifier $h*$?  Specify it exactly, as a function from $X$ to $Y$.\n",
    "\n",
    "\n",
    "$$Y = \\frac{P_{X2}}{2P_{X1}}$$\n",
    "\n"
   ]
  },
  {
   "cell_type": "markdown",
   "metadata": {},
   "source": [
    "### 3) Would you expect the following pairs of random variables to be uncorrelated, positively correlated or negatively correlated?\n",
    "\n",
    "a) The weight of a new car and its price. <p></p> <b>uncorrelated </b> <p></p>\n",
    "b) The weight of a car and the number of seats in it. <p></p> <b>positively correlated</b> <p></p>\n",
    "c) The age in years of a second-hand car and its current market value.<p></p> <b> negatively correlated </b>"
   ]
  },
  {
   "cell_type": "markdown",
   "metadata": {},
   "source": [
    "### 4) Consider a population of married couples in which every wife is exactly 0.9 of her husband's age.  What is the correlation between husband's age and wife's age?"
   ]
  },
  {
   "cell_type": "markdown",
   "metadata": {},
   "source": [
    "$$\\text{corr}(X,Y) = \\rho(X,Y) = \\frac{{cov}(X,Y)}{ {std}(X){std}(Y)} $$\n",
    "\n",
    "$$= \\frac{{cov}(X,Y)}{{\\sigma_X\\sigma_Y}} $$\n",
    "\n",
    "$$= \\frac{\\mathbb{E}[(X-\\mu_x)(Y-\\mu_y)]}{\\sigma_X\\sigma_Y} $$\n",
    "\n",
    "$$= \\frac{\\mathbb{E}[(XY]-\\mu_x\\mu_y}{{\\sigma_X\\sigma_Y}} $$\n",
    "\n",
    "Given $X = 0.9Y$,\n",
    "\n",
    "$$Y = \\frac{X}{0.9} $$\n",
    "\n",
    "$$\\mu_x = 0.9\\mu_y\\text{  }, \\text{  }  \\mu_y = \\frac{\\mu_x}{0.9}$$ \n"
   ]
  },
  {
   "cell_type": "markdown",
   "metadata": {},
   "source": [
    "Plugging into the equation for correlation:\n",
    "\n",
    "$$\\frac{\\mathbb{E}[(XY]-\\mu_x\\mu_y}{{\\sigma_X\\sigma_Y}} =  \\frac{\\mathbb{E}[(0.9Y^2]-0.9\\mu_y^2}{{\\sigma_X\\sigma_Y}} =  \\frac{0.9(\\mathbb{E}[Y^2]-\\mu_y^2)}{{\\sigma_X\\sigma_Y}} = \\frac{0.9\\sigma_Y^2}{\\sigma_X\\sigma_Y} = \\frac{0.9\\sigma_Y}{\\sigma_X} = \\frac{0.9\\sigma_Y}{0.3\\sigma_Y} = 3$$\n",
    "\n",
    "$$\\text{corr}(X,Y) = 3$$"
   ]
  },
  {
   "cell_type": "markdown",
   "metadata": {},
   "source": [
    "### 5) Each of the following scenarios describes a joint distribution $(x,y)$.  In each case, give the parameters of the (unique) bivariate Gaussian that satisfies these properties.\n",
    "#### a) x has mean 2 and standard deviation 1, y has mean 2 and standard deviation 0.5, and the correlation between $x$ and $y$ is -0.5."
   ]
  },
  {
   "cell_type": "markdown",
   "metadata": {},
   "source": [
    "$$\\text{Mean}(\\mu_x, \\mu_y) = \\mu = \\begin{bmatrix} \\mu_x \\\\ \\mu_y \\end{bmatrix} = \\begin{bmatrix} 2 \\\\ 2 \\end{bmatrix} $$\n",
    "\n",
    "$$\\sigma = \\begin{bmatrix} \\sigma_x \\\\ \\sigma_y \\end{bmatrix} = \\begin{bmatrix} 1 \\\\ 0.5 \\end{bmatrix} $$\n",
    "\n",
    "$$\\text{corr}(x,y) = -0.5$$"
   ]
  },
  {
   "cell_type": "markdown",
   "metadata": {},
   "source": [
    "$$\\text{Covariance matrix} = \\sum_{} = \\begin{bmatrix} var(x) & cov(x,y) \\\\ cov(x,y) & var(y) \\end{bmatrix}$$"
   ]
  },
  {
   "cell_type": "markdown",
   "metadata": {},
   "source": [
    "$$\\sum_{} = \\begin{bmatrix} \\mu_x^2 & cov(x,y) \\\\ cov(x,y) & \\mu_y^2 \\end{bmatrix}$$\n",
    "\n",
    "$$\\text{cov}(x,y) = \\text{corr}(x,y)\\sigma_x \\sigma_y = (-0.5)(1)(0.5) = -0.25 $$\n",
    "\n",
    "$$\\sum_{} = \\begin{bmatrix} 4 & -0.25 \\\\ -0.25 & 4 \\end{bmatrix}$$"
   ]
  },
  {
   "cell_type": "markdown",
   "metadata": {},
   "source": [
    "#### b) $x$ has a mean 1 and standard deviation 1, and y is equal to x"
   ]
  },
  {
   "cell_type": "markdown",
   "metadata": {},
   "source": [
    "\n",
    "$$\\sigma = \\begin{bmatrix} \\sigma_x \\\\ \\sigma_y) \\end{bmatrix} = \\begin{bmatrix} 1 \\\\ 1 \\end{bmatrix} $$\n",
    "\n",
    "$$\\text{corr}(x,y) = 1$$\n",
    "\n",
    "$$\\text{cov}(x,y) = \\text{corr}(x,y)\\sigma_x \\sigma_y = (1)(1)(1) = 1 $$\n",
    "\n",
    "$$\\sum_{} = \\begin{bmatrix} 1 & 1 \\\\ 1 & 1 \\end{bmatrix}$$"
   ]
  },
  {
   "cell_type": "markdown",
   "metadata": {},
   "source": [
    "### 6) Roughly sketch the shapes of the following Gaussians N(μ,Σ). For each, you only need to show a representative contour line which is qualitatively accurate (has approximately the right orientation, for instance).\n",
    "\n",
    "<img src=\"images/6_6.JPG\">"
   ]
  },
  {
   "cell_type": "markdown",
   "metadata": {},
   "source": [
    "### 7) Roughly sketch the shapes of the following Gaussians N(μ,Σ). For each, you only need to show a representative contour line which is qualitatively accurate (has approximately the right orientation, for instance)."
   ]
  },
  {
   "cell_type": "code",
   "execution_count": 2,
   "metadata": {
    "collapsed": false
   },
   "outputs": [
    {
     "data": {
      "text/plain": [
       "<matplotlib.text.Text at 0x10c86b1d0>"
      ]
     },
     "execution_count": 2,
     "metadata": {},
     "output_type": "execute_result"
    },
    {
     "data": {
      "image/png": "[encoded data removed]",
      "text/plain": [
       "<matplotlib.figure.Figure at 0x10c75d050>"
      ]
     },
     "metadata": {},
     "output_type": "display_data"
    }
   ],
   "source": [
    "import numpy as np\n",
    "import matplotlib.pyplot as plt \n",
    "%matplotlib inline\n",
    "\n",
    "#thanks to stack overflow!\n",
    "plt.figure()\n",
    "mean = [0,0]\n",
    "cov = [[9,0],[0,1]]\n",
    "x, y = np.random.multivariate_normal(mean, cov, 100).T\n",
    "plt.scatter(x,y)\n",
    "plt.axis('equal')\n",
    "plt.title('Graph for 7a')"
   ]
  },
  {
   "cell_type": "code",
   "execution_count": 4,
   "metadata": {
    "collapsed": false
   },
   "outputs": [
    {
     "data": {
      "text/plain": [
       "<matplotlib.collections.PathCollection at 0x105b0f610>"
      ]
     },
     "execution_count": 4,
     "metadata": {},
     "output_type": "execute_result"
    },
    {
     "data": {
      "image/png": "[encoded data removed]",
      "text/plain": [
       "<matplotlib.figure.Figure at 0x10c9d1d50>"
      ]
     },
     "metadata": {},
     "output_type": "display_data"
    }
   ],
   "source": [
    "mean = [0,0]\n",
    "cov = [[1,-.75], [-.75,1]]\n",
    "x,y = np.random.multivariate_normal(mean, cov, 100).T\n",
    "plt.figure()\n",
    "plt.axis('equal')\n",
    "plt.title('Graph for 7b')\n",
    "plt.scatter(x, y)"
   ]
  },
  {
   "cell_type": "markdown",
   "metadata": {},
   "source": [
    "### 8) Consider the linear classifier w · x ≥ θ, where\n",
    "$$w =\\begin{bmatrix} 3 \\\\ 4 \\end{bmatrix} \\text{ and } \\theta = 12.$$\n",
    "\n",
    "#### Sketch the decision boundary in $\\mathbb{R}^2$.  Make sure to label precisely where the boundar intersects the coordinate axes, and also indicate which side of the boundary is the positive side."
   ]
  },
  {
   "cell_type": "code",
   "execution_count": 19,
   "metadata": {
    "collapsed": false
   },
   "outputs": [
    {
     "data": {
      "image/png": "[encoded data removed]",
      "text/plain": [
       "<matplotlib.figure.Figure at 0x10d9156d0>"
      ]
     },
     "metadata": {},
     "output_type": "display_data"
    }
   ],
   "source": [
    "x = np.linspace(-10, 4, 10, endpoint=True)\n",
    "y = (3 * x + 12) / 4\n",
    "\n",
    "fig = plt.figure()\n",
    "ax = fig.add_subplot(111)\n",
    "ax.plot(x, y)\n",
    "\n",
    "ax.spines['right'].set_color('none')\n",
    "ax.spines['top'].set_color('none')\n",
    "ax.xaxis.set_ticks_position('bottom')\n",
    "ax.spines['bottom'].set_position(('data',0))\n",
    "ax.yaxis.set_ticks_position('left')\n",
    "\n",
    "plt.annotate(r'positive',\n",
    "         xy=(-6, 2), xycoords='data',\n",
    "         xytext=(+50, +30), textcoords='offset points', fontsize=20)\n",
    "\n",
    "plt.show()\n",
    "    "
   ]
  },
  {
   "cell_type": "code",
   "execution_count": null,
   "metadata": {
    "collapsed": true
   },
   "outputs": [],
   "source": []
  }
 ],
 "metadata": {
  "kernelspec": {
   "display_name": "Python 2",
   "language": "python",
   "name": "python2"
  },
  "language_info": {
   "codemirror_mode": {
    "name": "ipython",
    "version": 2
   },
   "file_extension": ".py",
   "mimetype": "text/x-python",
   "name": "python",
   "nbconvert_exporter": "python",
   "pygments_lexer": "ipython2",
   "version": "2.7.11"
  }
 },
 "nbformat": 4,
 "nbformat_minor": 0
}
