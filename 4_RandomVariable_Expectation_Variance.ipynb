{
 "cells": [
  {
   "cell_type": "markdown",
   "metadata": {},
   "source": [
    "# Worksheet 4 Random Variable, Expectation, and Variance (1,2,3,6,7a,7c,8,12)\n",
    "# author: Michael Galarnyk test"
   ]
  },
  {
   "cell_type": "markdown",
   "metadata": {},
   "source": [
    "<b>1)</b> A die is thrown twice. Let X<sub>1</sub> and X<sub>2</sub> denote the outcomes, and define random variable X to be the minimum of X<sub>1</sub> and X<sub>2</sub>. Determine the distribution of X. <p>\n",
    "\n",
    "Distribution of X: "
   ]
  },
  {
   "cell_type": "markdown",
   "metadata": {},
   "source": [
    "\n",
    "\n",
    "<table border=\"1\" style=\"width:300px\">\n",
    "<tbody>\n",
    "<tr>\n",
    "<td><b>z</b></td>\n",
    "<td>1</td>\n",
    "<td>2</td>\n",
    "<td>3</td>\n",
    "<td>4</td>\n",
    "<td>5</td>\n",
    "<td>6</td>\n",
    "</tr>\n",
    "<tr>\n",
    "<td><b>Pr(Z=z)</b></td>\n",
    "<td>11/36</td>\n",
    "<td>9/36\n",
    "</td>\n",
    "<td>7/36</td>\n",
    "<td>5/36</td>\n",
    "<td>3/36</td>\n",
    "<td>1/36</td>\n",
    "\n",
    "</tr>\n",
    "\n",
    "<tbody>\n",
    "<tfoot>\n",
    "</tfoot>\n",
    "</table>"
   ]
  },
  {
   "cell_type": "markdown",
   "metadata": {
    "collapsed": true
   },
   "source": [
    "<b>2)</b> A fair die is rolled repeatedly until a six is seen. What is the expected number of rolls? "
   ]
  },
  {
   "cell_type": "markdown",
   "metadata": {},
   "source": [
    "Expected number of tries before succeeding is 1/<i>p</i>. Each roll has a 1/6 chance in succeeding so 1/(1/6) = <b>6</b>"
   ]
  },
  {
   "cell_type": "markdown",
   "metadata": {},
   "source": [
    "<b>3)</b> On any given day, the probability it will be sunny is 0.8, the probability you will have a nice dinner is 0.25, and the probability that you will get to bed early is 0.5. Assume these three events are independent. What is the expected number of days before all three of them happen together <p> </p>\n",
    "\n",
    "(.8)*(.5)*(.25) = <i>p</i> = .1<p></p>\n",
    "Expected number of days = 1/.1 = <b>10 days</b>"
   ]
  },
  {
   "cell_type": "markdown",
   "metadata": {},
   "source": [
    "<b>6)</b> There is a dormitory with n beds for n students. One night the power goes out, and because it is dark, each student gets into a bed chosen uniformly at random. What is the expected number of students who end up in their own bed?  \n",
    "\n",
    "X = {1 if person ends up in correct bed. \n",
    "    0}\n",
    "\n",
    "<p></p>\n",
    "E(X) = E(X<sub>1</sub>) + E(X<sub>2</sub>) + ...E(X<sub>n</sub>)\n",
    "\n",
    "<p></p>"
   ]
  },
  {
   "cell_type": "markdown",
   "metadata": {},
   "source": [
    "<b>7)</b> In each of the following cases, say whether X and Y are independent. \n",
    "\n",
    "<p>(a) You randomly permute (1,2,...,n). X is the number in the first position and Y is the number in the second position. </p>\n",
    "<p>Taking a number from a set without replacement is <b>NOT INDEPENDENT</b></p>\n",
    "<p>(c) You randomly pick a card from a pack of 52 cards. X is 1 if the card is a nine, and is 0 otherwise. Y is 1 if the card is a heart, and is 0 otherwise</p> \n",
    "<p></p> They are <b>independent</b>. The heart doesn't affect the value (in this case 9) of the card."
   ]
  },
  {
   "cell_type": "markdown",
   "metadata": {},
   "source": [
    "<b>8)</b> A die has six sides that come up with different probabilities: <p></p> \n",
    "Pr(1) = Pr(2) = Pr(3) = Pr(4) = (1/8), Pr(5) = Pr(6) = 1/4 <p></p>\n",
    "\n",
    "(a) You roll the die; let Z be the outcome. What is E(Z) and var(Z)? <p></p>\n",
    "E(Z) = 1(1/8) + 2(1/8) + 3(1/8) + 4(1/8) + 5(1/4) + 6(1/4) = 4"
   ]
  },
  {
   "cell_type": "code",
   "execution_count": 2,
   "metadata": {
    "collapsed": false
   },
   "outputs": [
    {
     "name": "stdout",
     "output_type": "stream",
     "text": [
      "E(Z) 4.0\n"
     ]
    }
   ],
   "source": [
    "print 'E(Z)', 1*(float(1)/8) + 2*(float(1)/8) + 3*(float(1)/8) + 4*(float(1)/8) + 5*float(1)/4 + 6*float(1)/4"
   ]
  },
  {
   "cell_type": "markdown",
   "metadata": {},
   "source": [
    "E(Z<sup>2</sup>) = (1/8)(1<sup>2</sup> + 2<sup>2</sup> + 3<sup>2</sup> + 4<sup>2</sup>) + (1/4)(5<sup>2</sup> + 6<sup>2</sup>) = 19\n",
    "\n",
    "so... <p></p>\n",
    "var(Z) = E(Z<sup>2</sup>) - |E(Z)|<sup>2</sup> = 19 - 4<sup>2</sup> = 3"
   ]
  },
  {
   "cell_type": "markdown",
   "metadata": {},
   "source": [
    "(b) You roll the die 10 times independently; let X be the sum of all the rolls. What is E(X) and var(X)? "
   ]
  },
  {
   "cell_type": "markdown",
   "metadata": {},
   "source": [
    "####                   \n",
    "\n",
    "$E(X) = E[{\\sum\\limits_{i=1}^{10} E(Z_{i})] = (10)(4) = 40}$ \n",
    "####                   \n",
    "\n",
    "\n",
    "$E(X^{2}) = {\\sum\\limits_{i=1}^{10} E(Z_{i}^{2})} + {\\sum\\limits_{i \\neq j}}$\n",
    "####             \n",
    "\n",
    "\n",
    "$ E(Z_{i})E(Z_{j})  = (19)(10) + (10)(9)(4)(4) = 1630 $ \n",
    "####                    \n",
    "\n",
    "$ var(X)  = 1630 - (40)^2 = 30 $\n",
    "\n",
    "\n",
    "\n",
    "\n",
    "\n"
   ]
  },
  {
   "cell_type": "markdown",
   "metadata": {},
   "source": [
    "(c) You roll the die <i>n</i> and take the average of all the rolls; call this A. What is E(A)? What is var(A)? "
   ]
  },
  {
   "cell_type": "markdown",
   "metadata": {
    "collapsed": true
   },
   "source": [
    "Z<sub>i</sub> = outcome of the ith roll\n",
    "\n",
    "####                             \n",
    "$$A = \\frac{1}{n} \\sum\\limits_{i=1}^{n} Z_{i}$$\n",
    "\n",
    "####                    \n",
    "\n",
    "$$E(A) = E\\frac{1}{n}\\sum\\limits_{i=1}^{n} Z_{i} = 4 $$\n",
    "####                             \n",
    "\n",
    "$$E(A^{2}) = \\frac{1}{n^{2}} [{\\sum\\limits_{i=1}^{10} E(Z_{i}^{2})} + {\\sum\\limits_{i \\neq j} E(Z_{i})E(Z_{j})}] $$\n",
    "\n",
    "\n",
    "####                                             \n",
    "\n",
    "\n",
    "\n",
    "$$E(A^{2}) = \\frac{1}{n^{2}} [19n + (n)(n-1)(4)(4)] = 16 + \\frac{3}{n} $$ \n",
    "\n",
    "####                \n",
    "\n",
    "$$var(A^2) = E(A^2) - |E(A)|^2 = \\frac{3}{n}      $$"
   ]
  },
  {
   "cell_type": "markdown",
   "metadata": {},
   "source": [
    "<b>12)</b> Suppose a fair coin is tossed repeatedly until the same outcome occurs twice in a row (that is, two heads in a row or two tails in a row). What is the expected number of tosses?\n"
   ]
  },
  {
   "cell_type": "markdown",
   "metadata": {
    "collapsed": true
   },
   "source": [
    "1 / (Pr(H,H) + Pr(T,T)) = 1 / (.25 + .25) = 2 tosses"
   ]
  },
  {
   "cell_type": "code",
   "execution_count": null,
   "metadata": {
    "collapsed": true
   },
   "outputs": [],
   "source": []
  }
 ],
 "metadata": {
  "kernelspec": {
   "display_name": "Python 2",
   "language": "python",
   "name": "python2"
  },
  "language_info": {
   "codemirror_mode": {
    "name": "ipython",
    "version": 2
   },
   "file_extension": ".py",
   "mimetype": "text/x-python",
   "name": "python",
   "nbconvert_exporter": "python",
   "pygments_lexer": "ipython2",
   "version": "2.7.11"
  }
 },
 "nbformat": 4,
 "nbformat_minor": 0
}
