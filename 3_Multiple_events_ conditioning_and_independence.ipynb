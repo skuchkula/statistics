{
 "cells": [
  {
   "cell_type": "markdown",
   "metadata": {},
   "source": [
    "# Worksheet 3 Probability Spaces (1,2,3,5,6,10,15a,16)\n",
    "# author: Michael Galarnyk"
   ]
  },
  {
   "cell_type": "markdown",
   "metadata": {},
   "source": [
    "<b>1)</b> A coin is tossed three times. What is the probability that there are exactly two heads, given that <p>\n"
   ]
  },
  {
   "cell_type": "markdown",
   "metadata": {},
   "source": [
    "(a) the first outcome is a head? <p>\n",
    "<p>\n",
    "$ Pr(double H | 1st H) = \\frac{\\frac{2}{2^{3}}}{.5}$<p>\n",
    "(b) the first outcome is a tail? <p>\n",
    "<p>\n",
    "$ Pr(double H | 1st T) = \\frac{\\frac{1}{2^{3}}}{.5}$<p> <p>\n",
    "(c) the first two outcomes are both heads? <p>\n",
    "<p>\n",
    "$ Pr(double H | 1st two are heads) = \\frac{\\frac{1}{2^{3}}}{.25}$<p> <p>\n",
    "(d) the first two outcomes are both tails? <p>\n",
    "<p>\n",
    "0 <p>\n",
    "(e) the first outcome is a head and the third outcome is a tail? <p>\n",
    "$\\frac{1}{2}$"
   ]
  },
  {
   "cell_type": "markdown",
   "metadata": {
    "collapsed": true
   },
   "source": [
    "<b>2)</b> A student must choose exactly two of the following three electives: art, French, or mathematics. The probability that he choses art is $\\frac{5}{8}$ and the probability that he chooses both art and French is $\\frac{1}{4}$. <p>\n",
    "\n",
    "$\\Omega$ = {AF, AM, FM} <p> \n",
    "$P(A \\cap F) + P(A \\cap M) + P(F \\cap M)$ = 1"
   ]
  },
  {
   "cell_type": "markdown",
   "metadata": {},
   "source": [
    "(a) What is the probability that he chooses mathematics? <p>\n",
    "<b>$\\frac{3}{4}$ <p></b>\n",
    "(b) What is the probability that he chooses either art or French? <p>\n",
    "<b>$\\frac{1}{1}$</b>"
   ]
  },
  {
   "cell_type": "markdown",
   "metadata": {},
   "source": [
    "<b>3)</b> For a bill to come before the president of the United States, it must be passed by both the House of Representatives and the Senate. Assume that, of the bills presented to the two bodies, 60% pass the House, 80% pass the Senate, and 90% pass at least one of the two. Calculate the probability that the next bill presented to the two groups will come before the president. <p> "
   ]
  },
  {
   "cell_type": "markdown",
   "metadata": {},
   "source": [
    "$P(S \\cap H) = P(S) + P(H) - P(S \\cup H)$ =\n",
    ".8 + .6 - .9 = <b>50%</b>"
   ]
  },
  {
   "cell_type": "markdown",
   "metadata": {},
   "source": [
    "<b>5)</b> A card is drawn at random from a standard deck. What is the probability that: <p> \n",
    "(a) it is a heart, given that it is red? <p> \n",
    "$\\frac{Pr(heart \\cap red)}{Pr(red)} = \\frac{\\frac{13}{52}}{.5}$ <p>\n",
    "(b) it is higher than a ten, given that it is a heart (interpret J, Q, K, A as having numeric value 11,12,13,14)?<p> \n",
    "$\\frac{\\frac{8}{52}}{.5} = \\frac{4}{13}$ <p>\n",
    "(c) it is a jack, given that it is higher than a 10? <p> \n",
    "$\\frac{\\frac{4}{52}}{\\frac{4}{13}} = \\frac{1}{4}$ <p>"
   ]
  },
  {
   "cell_type": "markdown",
   "metadata": {},
   "source": [
    "<b>6)</b> If P(B$^{c}$) = $\\frac{1}{4}$ and Pr(A|B) = $\\frac{1}{2}$, what is Pr(A $\\cap$ B)?"
   ]
  },
  {
   "cell_type": "markdown",
   "metadata": {},
   "source": [
    "Formula: Pr(A|B) = $\\frac{Pr(A \\cap B)}{P(B)}$"
   ]
  },
  {
   "cell_type": "markdown",
   "metadata": {},
   "source": [
    "(1/2) = $\\frac{Pr(A \\cap B)}{3/4}$ => <b>$Pr(A \\cap B) = \\frac{3}{8}$ </b>"
   ]
  },
  {
   "cell_type": "markdown",
   "metadata": {},
   "source": [
    "<b>10)</b> Suppose that there are equal numbers of men and women in the world, and that 5% of men are colorblind only 1% of women are colorblind. A person is chosen at random and found to be colorblind. What is the probability that the person is male? "
   ]
  },
  {
   "cell_type": "markdown",
   "metadata": {},
   "source": [
    "P(M|C) = $\\frac{P(C|M)P(M)}{P(M)}$ = $\\frac{P(C|M)P(M)}{P(C|M)P(M) + P(C|F)P(F)}$ = <b>83.3% (work below)</b> <p>"
   ]
  },
  {
   "cell_type": "code",
   "execution_count": 2,
   "metadata": {
    "collapsed": false
   },
   "outputs": [
    {
     "name": "stdout",
     "output_type": "stream",
     "text": [
      "0.833333333333\n"
     ]
    }
   ],
   "source": [
    "print ((0.05)*(.5)) / ((0.05*.5)+ (0.01 *.5))"
   ]
  },
  {
   "cell_type": "markdown",
   "metadata": {
    "collapsed": true
   },
   "source": [
    "<b>15a)</b> A coin is tossed three times. Consider the following five events? <p> \n",
    "<li> A: Heads on the first toss </li>\n",
    "<li> B: Tails on the second toss </li>\n",
    "<li> C: Heads on the third toss </li>\n",
    "<li> D: All three outcomes the same </li>\n",
    "<li> E: Heads on the first toss </li><p> \n",
    "(a) Which of the following pairs of events are independent? <p> \n",
    "(1) A, B <p> \n",
    "<b>Independent</b><p>\n",
    "(2) A, D <p> \n",
    "<b>Independent</b><p>\n",
    "(3) A, E <p> \n",
    "<b>Dependent</b><p>\n",
    "(4) D, E <p> \n",
    "<b>Dependent</b><p>"
   ]
  },
  {
   "cell_type": "markdown",
   "metadata": {},
   "source": [
    "<b>16)</b> You randomly shuffle a standard deck and deal two cards. Which of the following pairs of events are independent? <p> \n",
    "(1) A = {first card is a heart}, B = {second card is a heart} <p>\n",
    "<b>DEPENDENT</b><p>\n",
    "(2) A = {first card is a heart}, B = {first card is a 10}<p>\n",
    "<b>INDEPENDENT</b><p>\n",
    "(3) A = {first card is a 10}, B = {second card is a 9} <p> \n",
    "<b>DEPENDENT</b><p>\n",
    "(4) A = {first card is a heart}, B = {second card is a 10} <p> \n",
    "<b>INDEPENDENT</b><p>"
   ]
  }
 ],
 "metadata": {
  "kernelspec": {
   "display_name": "Python 2",
   "language": "python",
   "name": "python2"
  },
  "language_info": {
   "codemirror_mode": {
    "name": "ipython",
    "version": 2
   },
   "file_extension": ".py",
   "mimetype": "text/x-python",
   "name": "python",
   "nbconvert_exporter": "python",
   "pygments_lexer": "ipython2",
   "version": "2.7.11"
  }
 },
 "nbformat": 4,
 "nbformat_minor": 0
}
