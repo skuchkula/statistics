{
 "cells": [
  {
   "cell_type": "markdown",
   "metadata": {},
   "source": [
    "<img src = \"images/Worksheet9/Header.png\">"
   ]
  },
  {
   "cell_type": "markdown",
   "metadata": {},
   "source": [
    "Problems 1, 3, 5, 8, 9, 10, 11"
   ]
  },
  {
   "cell_type": "markdown",
   "metadata": {
    "collapsed": false
   },
   "source": [
    "<img src = \"images/Worksheet9/1.png\">"
   ]
  },
  {
   "cell_type": "code",
   "execution_count": 14,
   "metadata": {
    "collapsed": false
   },
   "outputs": [
    {
     "name": "stdout",
     "output_type": "stream",
     "text": [
      "N( 810.0 , 81.0 )\n"
     ]
    }
   ],
   "source": [
    "# Distribution formula is N(mean, var)\n",
    "E_X = (.9)*(900) # Expected value is np\n",
    "var = 900* (.1) * (.9)\n",
    "print 'N(', E_X, ',', var, ')' "
   ]
  },
  {
   "cell_type": "markdown",
   "metadata": {},
   "source": [
    "<img src = \"images/Worksheet9/3.png\">"
   ]
  },
  {
   "cell_type": "markdown",
   "metadata": {
    "collapsed": false
   },
   "source": [
    "<b>(a)</b> p = 1/20 => <p></p>\n",
    "E(X) = (1/20)(100) = 5<p></p>\n",
    "var(X) = np(1-p) = 100(1/20)(1- 1/20) = 4.75<p></p>\n",
    "<b>(b)</b> N(5,4.75)\n",
    "X<sub>i</sub> = 5 + 4.4 (+ 2*std since we need a 95% confidence)"
   ]
  },
  {
   "cell_type": "markdown",
   "metadata": {},
   "source": [
    "<b>(c)</b> E(Y<sub>i</sub>) = 0 <p></p>\n",
    "\n",
    "<p></p>\n",
    "var(Y<sub>i</sub>) =( 1-0) = 1<p></p>"
   ]
  },
  {
   "cell_type": "markdown",
   "metadata": {},
   "source": [
    "<b>(d)</b> var = np = 100(1) = 100 <p></p>\n",
    "E[Z<sub>r</sub> - Z<sub>b</sub>] = 0 <p></p>\n",
    "N(0,100) <p></p>"
   ]
  },
  {
   "cell_type": "markdown",
   "metadata": {},
   "source": [
    "<b>(e)</b> [0,30] <p></p> (99% confidence interval is because it is 3 times the standard deviation)"
   ]
  },
  {
   "cell_type": "markdown",
   "metadata": {},
   "source": [
    "<img src = \"images/Worksheet9/5.png\">"
   ]
  },
  {
   "cell_type": "markdown",
   "metadata": {
    "collapsed": false
   },
   "source": [
    "<b>(a)</b> var(Y<sub>i</sub>) = <sup>(.5(1.-.5) )</sup>&frasl;<sub>100</sub> <p></p>\n",
    "var(Y<sub>i</sub>)<sup>1/2</sup> = 0.05 <p></p>\n",
    "<b>std = 0.05 <p></p></b>"
   ]
  },
  {
   "cell_type": "markdown",
   "metadata": {
    "collapsed": false
   },
   "source": [
    "<b>(b)</b> var(Y<sub>i</sub>) = <sup>(.5(1.-.5) )</sup>&frasl;<sub>2500</sub> <p></p>\n",
    "var(Y<sub>i</sub>)<sup>1/2</sup> = 0.01 <p></p>\n",
    "<b>std = 0.01 <p></p></b>"
   ]
  },
  {
   "cell_type": "markdown",
   "metadata": {},
   "source": [
    "<img src = \"images/Worksheet9/8.png\">"
   ]
  },
  {
   "cell_type": "code",
   "execution_count": 15,
   "metadata": {
    "collapsed": false
   },
   "outputs": [
    {
     "name": "stdout",
     "output_type": "stream",
     "text": [
      "p: 0.388\n",
      "std: 0.0217924757657\n",
      "95.5% confidence interval:  0.388  +-  0.0435849515315\n"
     ]
    }
   ],
   "source": [
    "p = 194.0/500\n",
    "n = 500.0\n",
    "print 'p:', p\n",
    "std = ((p*(1-p))/ n)** .5\n",
    "print 'std:', std\n",
    "print '95.5% confidence interval: ',p, ' +- ', (2*std) "
   ]
  },
  {
   "cell_type": "markdown",
   "metadata": {},
   "source": [
    "<img src = \"images/Worksheet9/9.png\">"
   ]
  },
  {
   "cell_type": "markdown",
   "metadata": {},
   "source": [
    "sample size of 1000 since population size doesn't matter. "
   ]
  },
  {
   "cell_type": "markdown",
   "metadata": {},
   "source": [
    "<img src = \"images/Worksheet9/10.png\">"
   ]
  },
  {
   "cell_type": "code",
   "execution_count": 3,
   "metadata": {
    "collapsed": false
   },
   "outputs": [
    {
     "name": "stdout",
     "output_type": "stream",
     "text": [
      "sig: 0.948683298051\n",
      "nationwide average:  307 std: 0.948683298051\n"
     ]
    }
   ],
   "source": [
    "# n(sigma) = 30\n",
    "n_sig = 30 \n",
    "sig = 30.0/((1000)**.5)\n",
    "print 'sig:', sig\n",
    "print 'nationwide average: ', 307, 'std:', sig"
   ]
  },
  {
   "cell_type": "markdown",
   "metadata": {
    "collapsed": false,
    "scrolled": true
   },
   "source": [
    "<img src = \"images/Worksheet9/11.png\">"
   ]
  },
  {
   "cell_type": "markdown",
   "metadata": {},
   "source": [
    "<b>(a)</b> Yes. Average is roughly 297/100 = 2.97. "
   ]
  },
  {
   "cell_type": "markdown",
   "metadata": {
    "collapsed": true
   },
   "source": [
    "<b>(b)</b> No. Need more information (need variance)."
   ]
  },
  {
   "cell_type": "code",
   "execution_count": null,
   "metadata": {
    "collapsed": true
   },
   "outputs": [],
   "source": []
  }
 ],
 "metadata": {
  "kernelspec": {
   "display_name": "Python 2",
   "language": "python",
   "name": "python2"
  },
  "language_info": {
   "codemirror_mode": {
    "name": "ipython",
    "version": 2
   },
   "file_extension": ".py",
   "mimetype": "text/x-python",
   "name": "python",
   "nbconvert_exporter": "python",
   "pygments_lexer": "ipython2",
   "version": "2.7.11"
  }
 },
 "nbformat": 4,
 "nbformat_minor": 0
}
