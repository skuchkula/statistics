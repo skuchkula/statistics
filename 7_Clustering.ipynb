{
 "cells": [
  {
   "cell_type": "markdown",
   "metadata": {},
   "source": [
    "<img src = \"images/Worksheet7/Header.png\">"
   ]
  },
  {
   "cell_type": "code",
   "execution_count": 8,
   "metadata": {
    "collapsed": false
   },
   "outputs": [],
   "source": [
    "%matplotlib inline\n",
    "import pandas as pd\n",
    "import matplotlib.pyplot as plt\n",
    "import numpy as np\n",
    "from scipy.cluster.hierarchy import dendrogram, linkage\n",
    "from sklearn.cluster import KMeans\n",
    "from pylab import rcParams"
   ]
  },
  {
   "cell_type": "markdown",
   "metadata": {
    "collapsed": false
   },
   "source": [
    "<img src = \"images/Worksheet7/1.png\">"
   ]
  },
  {
   "cell_type": "markdown",
   "metadata": {},
   "source": [
    "<img src = \"images/Worksheet7/2.png\">"
   ]
  },
  {
   "cell_type": "code",
   "execution_count": 9,
   "metadata": {
    "collapsed": false
   },
   "outputs": [
    {
     "name": "stdout",
     "output_type": "stream",
     "text": [
      "--2016-03-04 06:02:42--  http://attributes.kyb.tuebingen.mpg.de/AwA-base.tar.bz2\n",
      "Resolving attributes.kyb.tuebingen.mpg.de (attributes.kyb.tuebingen.mpg.de)... 192.124.27.50\n",
      "Connecting to attributes.kyb.tuebingen.mpg.de (attributes.kyb.tuebingen.mpg.de)|192.124.27.50|:80... connected.\n",
      "HTTP request sent, awaiting response... 200 OK\n",
      "Length: 1062822 (1.0M) [application/x-bzip2]\n",
      "Saving to: ‘data.tar.bz2’\n",
      "\n",
      "data.tar.bz2        100%[=====================>]   1.01M   295KB/s   in 3.5s   \n",
      "\n",
      "2016-03-04 06:02:46 (295 KB/s) - ‘data.tar.bz2’ saved [1062822/1062822]\n",
      "\n",
      "mkdir: data: File exists\n",
      "\u001b[34mFeatures\u001b[m\u001b[m                        predicate-matrix-continuous.txt\n",
      "README-attributes.txt           predicate-matrix.png\n",
      "classes.txt                     predicates.txt\n",
      "lampert-cvpr2009.pdf            testclasses.txt\n",
      "predicate-matrix-binary.txt     trainclasses.txt\n"
     ]
    }
   ],
   "source": [
    "!wget -O data.tar.bz2 http://attributes.kyb.tuebingen.mpg.de/AwA-base.tar.bz2\n",
    "    \n",
    "# -C changes to the specified directory before unpacking (or packing). \n",
    "# --strip-components removes the specified number of directories from the filenames stored in the archive.\n",
    "\n",
    "!mkdir data && tar xf data.tar.bz2 -C data --strip-components 1\n",
    "\n",
    "# Looking at various text files and removing old zipped file\n",
    "!ls data && rm data.tar.bz2"
   ]
  },
  {
   "cell_type": "markdown",
   "metadata": {},
   "source": [
    "<img src = \"images/Worksheet7/3.png\">"
   ]
  },
  {
   "cell_type": "code",
   "execution_count": 10,
   "metadata": {
    "collapsed": false
   },
   "outputs": [
    {
     "name": "stdout",
     "output_type": "stream",
     "text": [
      "(50, 85)\n"
     ]
    },
    {
     "data": {
      "text/plain": [
       "array([[ -1.  ,  -1.  ,  -1.  , ...,   2.35,   9.7 ,   8.38],\n",
       "       [ 39.25,   1.39,   0.  , ...,  58.64,  20.14,  11.39],\n",
       "       [ 83.4 ,  64.79,   0.  , ...,  15.77,  13.41,  15.42],\n",
       "       ..., \n",
       "       [ 63.57,  43.1 ,   0.  , ...,  35.95,  28.26,   5.  ],\n",
       "       [ 55.31,  55.46,   0.  , ...,   5.04,  18.89,  72.99],\n",
       "       [ 10.22,  21.53,  27.73, ...,   3.96,  14.05,  37.98]])"
      ]
     },
     "execution_count": 10,
     "metadata": {},
     "output_type": "execute_result"
    }
   ],
   "source": [
    "samples_features = pd.read_fwf(\"data/predicate-matrix-continuous.txt\", header=None).values\n",
    "print samples_features.shape\n",
    "# 50 is the number of samples n (number of animals)\n",
    "# 85 is the number of features m (number of features)\n",
    "samples_features"
   ]
  },
  {
   "cell_type": "code",
   "execution_count": 11,
   "metadata": {
    "collapsed": false
   },
   "outputs": [
    {
     "data": {
      "text/plain": [
       "array(['antelope', 'grizzly+bear', 'killer+whale', 'beaver', 'dalmatian',\n",
       "       'persian+cat', 'horse', 'german+shepherd', 'blue+whale',\n",
       "       'siamese+cat', 'skunk', 'mole', 'tiger', 'hippopotamus', 'leopard',\n",
       "       'moose', 'spider+monkey', 'humpback+whale', 'elephant', 'gorilla',\n",
       "       'ox', 'fox', 'sheep', 'seal', 'chimpanzee', 'hamster', 'squirrel',\n",
       "       'rhinoceros', 'rabbit', 'bat', 'giraffe', 'wolf', 'chihuahua',\n",
       "       'rat', 'weasel', 'otter', 'buffalo', 'zebra', 'giant+panda', 'deer',\n",
       "       'bobcat', 'pig', 'lion', 'mouse', 'polar+bear', 'collie', 'walrus',\n",
       "       'raccoon', 'cow', 'dolphin'], dtype=object)"
      ]
     },
     "execution_count": 11,
     "metadata": {},
     "output_type": "execute_result"
    }
   ],
   "source": [
    "classes=pd.read_fwf(\"data/classes.txt\", header=None)[1].values\n",
    "classes"
   ]
  },
  {
   "cell_type": "markdown",
   "metadata": {},
   "source": [
    "<h2 align=\"center\"> In order to make the real_value array data (samples_features) clearer, I put it into a pandas dataframe. Notice the dalmation has the column spots at 100 and the other dogs have values around 10 </h2>"
   ]
  },
  {
   "cell_type": "code",
   "execution_count": 12,
   "metadata": {
    "collapsed": false
   },
   "outputs": [
    {
     "data": {
      "text/html": [
       "<div>\n",
       "<table border=\"1\" class=\"dataframe\">\n",
       "  <thead>\n",
       "    <tr style=\"text-align: right;\">\n",
       "      <th></th>\n",
       "      <th>black</th>\n",
       "      <th>white</th>\n",
       "      <th>blue</th>\n",
       "      <th>brown</th>\n",
       "      <th>gray</th>\n",
       "      <th>orange</th>\n",
       "      <th>red</th>\n",
       "      <th>yellow</th>\n",
       "      <th>patches</th>\n",
       "      <th>spots</th>\n",
       "      <th>...</th>\n",
       "      <th>water</th>\n",
       "      <th>tree</th>\n",
       "      <th>cave</th>\n",
       "      <th>fierce</th>\n",
       "      <th>timid</th>\n",
       "      <th>smart</th>\n",
       "      <th>group</th>\n",
       "      <th>solitary</th>\n",
       "      <th>nestspot</th>\n",
       "      <th>domestic</th>\n",
       "    </tr>\n",
       "  </thead>\n",
       "  <tbody>\n",
       "    <tr>\n",
       "      <th>german+shepherd</th>\n",
       "      <td>43.54</td>\n",
       "      <td>15.88</td>\n",
       "      <td>5</td>\n",
       "      <td>54.16</td>\n",
       "      <td>26.82</td>\n",
       "      <td>3.12</td>\n",
       "      <td>2.5</td>\n",
       "      <td>0.38</td>\n",
       "      <td>48.78</td>\n",
       "      <td>11.59</td>\n",
       "      <td>...</td>\n",
       "      <td>3.75</td>\n",
       "      <td>0.00</td>\n",
       "      <td>2.5</td>\n",
       "      <td>57.44</td>\n",
       "      <td>10.00</td>\n",
       "      <td>57.53</td>\n",
       "      <td>12.50</td>\n",
       "      <td>35.11</td>\n",
       "      <td>16.53</td>\n",
       "      <td>68.55</td>\n",
       "    </tr>\n",
       "    <tr>\n",
       "      <th>collie</th>\n",
       "      <td>10.13</td>\n",
       "      <td>41.37</td>\n",
       "      <td>0</td>\n",
       "      <td>47.27</td>\n",
       "      <td>3.75</td>\n",
       "      <td>8.00</td>\n",
       "      <td>0.5</td>\n",
       "      <td>0.00</td>\n",
       "      <td>37.00</td>\n",
       "      <td>9.09</td>\n",
       "      <td>...</td>\n",
       "      <td>0.00</td>\n",
       "      <td>0.00</td>\n",
       "      <td>0.0</td>\n",
       "      <td>5.25</td>\n",
       "      <td>43.09</td>\n",
       "      <td>42.17</td>\n",
       "      <td>0.62</td>\n",
       "      <td>45.99</td>\n",
       "      <td>18.57</td>\n",
       "      <td>79.11</td>\n",
       "    </tr>\n",
       "    <tr>\n",
       "      <th>dalmatian</th>\n",
       "      <td>69.58</td>\n",
       "      <td>73.33</td>\n",
       "      <td>0</td>\n",
       "      <td>6.39</td>\n",
       "      <td>0.00</td>\n",
       "      <td>0.00</td>\n",
       "      <td>0.0</td>\n",
       "      <td>0.00</td>\n",
       "      <td>37.08</td>\n",
       "      <td>100.00</td>\n",
       "      <td>...</td>\n",
       "      <td>1.25</td>\n",
       "      <td>6.25</td>\n",
       "      <td>0.0</td>\n",
       "      <td>9.38</td>\n",
       "      <td>31.67</td>\n",
       "      <td>53.26</td>\n",
       "      <td>24.44</td>\n",
       "      <td>29.38</td>\n",
       "      <td>11.25</td>\n",
       "      <td>72.71</td>\n",
       "    </tr>\n",
       "  </tbody>\n",
       "</table>\n",
       "<p>3 rows × 85 columns</p>\n",
       "</div>"
      ],
      "text/plain": [
       "                 black  white  blue  brown   gray  orange  red  yellow  \\\n",
       "german+shepherd  43.54  15.88     5  54.16  26.82    3.12  2.5    0.38   \n",
       "collie           10.13  41.37     0  47.27   3.75    8.00  0.5    0.00   \n",
       "dalmatian        69.58  73.33     0   6.39   0.00    0.00  0.0    0.00   \n",
       "\n",
       "                 patches   spots    ...     water  tree  cave  fierce  timid  \\\n",
       "german+shepherd    48.78   11.59    ...      3.75  0.00   2.5   57.44  10.00   \n",
       "collie             37.00    9.09    ...      0.00  0.00   0.0    5.25  43.09   \n",
       "dalmatian          37.08  100.00    ...      1.25  6.25   0.0    9.38  31.67   \n",
       "\n",
       "                 smart  group  solitary  nestspot  domestic  \n",
       "german+shepherd  57.53  12.50     35.11     16.53     68.55  \n",
       "collie           42.17   0.62     45.99     18.57     79.11  \n",
       "dalmatian        53.26  24.44     29.38     11.25     72.71  \n",
       "\n",
       "[3 rows x 85 columns]"
      ]
     },
     "execution_count": 12,
     "metadata": {},
     "output_type": "execute_result"
    }
   ],
   "source": [
    "feature_names=pd.read_fwf(\"data/predicates.txt\", header=None)[1].values\n",
    "classes_features = pd.DataFrame(data = samples_features, columns = feature_names)\n",
    "classes_features.index = classes\n",
    "classes_features.loc[['german+shepherd', 'collie', 'dalmatian']]\n",
    "#classes_features"
   ]
  },
  {
   "cell_type": "code",
   "execution_count": 13,
   "metadata": {
    "collapsed": false
   },
   "outputs": [
    {
     "data": {
      "text/plain": [
       "{0: ['hippopotamus',\n",
       "  'moose',\n",
       "  'elephant',\n",
       "  'ox',\n",
       "  'rhinoceros',\n",
       "  'buffalo',\n",
       "  'pig',\n",
       "  'cow'],\n",
       " 1: ['tiger', 'leopard', 'wolf', 'bobcat', 'lion'],\n",
       " 2: ['beaver', 'seal', 'otter'],\n",
       " 3: ['fox', 'bat', 'rat', 'weasel', 'raccoon'],\n",
       " 4: ['killer+whale', 'blue+whale', 'humpback+whale', 'walrus', 'dolphin'],\n",
       " 5: ['antelope', 'horse', 'giraffe', 'zebra', 'deer'],\n",
       " 6: ['dalmatian',\n",
       "  'persian+cat',\n",
       "  'german+shepherd',\n",
       "  'siamese+cat',\n",
       "  'chihuahua',\n",
       "  'collie'],\n",
       " 7: ['spider+monkey', 'gorilla', 'chimpanzee', 'giant+panda'],\n",
       " 8: ['skunk', 'mole', 'sheep', 'hamster', 'squirrel', 'rabbit', 'mouse'],\n",
       " 9: ['grizzly+bear', 'polar+bear']}"
      ]
     },
     "execution_count": 13,
     "metadata": {},
     "output_type": "execute_result"
    }
   ],
   "source": [
    "clf=KMeans(init='k-means++', n_clusters=10, n_init=10)\n",
    "clf.fit(samples_features, classes) #samples_features is a samples by features matrix\n",
    "clusters = clf.predict(samples_features) # clusters are int32 from 0-9 for n_clusters = 10\n",
    "\n",
    "grouping = {i:[] for i in xrange(0,10)}\n",
    "\n",
    "for i,animal in enumerate(classes):\n",
    "    grouping[clusters[i]].append(animal)\n",
    "grouping"
   ]
  },
  {
   "cell_type": "markdown",
   "metadata": {},
   "source": [
    "<h2 align=\"center\"> From the clustering, it is clear that the groups that are clusters together make some intuitive sense (for example, chihuahua, collie and dalmation are similar), but the choice of 10 clusters seems arbitrary </h2>"
   ]
  },
  {
   "cell_type": "markdown",
   "metadata": {},
   "source": [
    "<img src = \"images/Worksheet7/4.png\">"
   ]
  },
  {
   "cell_type": "code",
   "execution_count": 15,
   "metadata": {
    "collapsed": false,
    "scrolled": true
   },
   "outputs": [
    {
     "data": {
      "image/png": "[encoded data removed]",
      "text/plain": [
       "<matplotlib.figure.Figure at 0x10c6c3350>"
      ]
     },
     "metadata": {},
     "output_type": "display_data"
    }
   ],
   "source": [
    "# z is the cluster linkage array (contains the hierarchical clustering information)\n",
    "z = linkage(samples_features, method='ward');\n",
    "\n",
    "dendrogram(z, orientation=\"right\", labels=classes)\n",
    "rcParams['figure.figsize']=[20,15]"
   ]
  },
  {
   "cell_type": "markdown",
   "metadata": {},
   "source": [
    "<h2 align=\"center\"> The clustering seems sensible to me since it 10 clusters before was arbitrary plus it seems to have made intuitive sense in grouping polar and grizzly bears together, different types of dog, and various sea dwelling creatures together. </h2>"
   ]
  },
  {
   "cell_type": "code",
   "execution_count": null,
   "metadata": {
    "collapsed": true
   },
   "outputs": [],
   "source": []
  }
 ],
 "metadata": {
  "kernelspec": {
   "display_name": "Python 2",
   "language": "python",
   "name": "python2"
  },
  "language_info": {
   "codemirror_mode": {
    "name": "ipython",
    "version": 2
   },
   "file_extension": ".py",
   "mimetype": "text/x-python",
   "name": "python",
   "nbconvert_exporter": "python",
   "pygments_lexer": "ipython2",
   "version": "2.7.11"
  }
 },
 "nbformat": 4,
 "nbformat_minor": 0
}
