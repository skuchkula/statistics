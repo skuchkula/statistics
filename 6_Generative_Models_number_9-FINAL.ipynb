{
 "cells": [
  {
   "cell_type": "markdown",
   "metadata": {},
   "source": [
    "<h1 align=\"center\"> Worksheet 6 Generative models II # 9 </h1>\n",
    "<h2 align=\"center\"> Michael Galarnyk </h2> <p></p>"
   ]
  },
  {
   "cell_type": "code",
   "execution_count": 16,
   "metadata": {
    "collapsed": false
   },
   "outputs": [],
   "source": [
    "import matplotlib.pyplot as plt\n",
    "from struct import unpack\n",
    "%matplotlib inline\n",
    "import numpy as np\n",
    "from scipy.stats import multivariate_normal\n",
    "from sklearn import datasets"
   ]
  },
  {
   "cell_type": "markdown",
   "metadata": {},
   "source": [
    "<h2 align=\"center\">Loading MNIST Dataset </h2> <p></p>\n",
    "<h5 align=\"center\">(very similar to loader.py) </h5> <p></p>"
   ]
  },
  {
   "cell_type": "code",
   "execution_count": 17,
   "metadata": {
    "collapsed": false
   },
   "outputs": [],
   "source": [
    "#dataset = datasets.fetch_mldata(\"MNIST Original\") in case you have trouble with loadmnist function"
   ]
  },
  {
   "cell_type": "code",
   "execution_count": 18,
   "metadata": {
    "collapsed": false
   },
   "outputs": [],
   "source": [
    "def loadmnist(imagefile, labelfile):\n",
    "\n",
    "    # Open the images with gzip in read binary mode\n",
    "    images = open(imagefile, 'rb')\n",
    "    labels = open(labelfile, 'rb')\n",
    "\n",
    "    # Get metadata for images\n",
    "    images.read(4)  # skip the magic_number\n",
    "    number_of_images = images.read(4)\n",
    "    number_of_images = unpack('>I', number_of_images)[0]\n",
    "    rows = images.read(4)\n",
    "    rows = unpack('>I', rows)[0]\n",
    "    cols = images.read(4)\n",
    "    cols = unpack('>I', cols)[0]\n",
    "\n",
    "    # Get metadata for labels\n",
    "    labels.read(4)\n",
    "    N = labels.read(4)\n",
    "    N = unpack('>I', N)[0]\n",
    "\n",
    "    # Get data\n",
    "    x = np.zeros((N, rows*cols), dtype=np.uint8)  # Initialize numpy array\n",
    "    y = np.zeros(N, dtype=np.uint8)  # Initialize numpy array\n",
    "    for i in range(N):\n",
    "        for j in range(rows*cols):\n",
    "            tmp_pixel = images.read(1)  # Just a single byte\n",
    "            tmp_pixel = unpack('>B', tmp_pixel)[0]\n",
    "            x[i][j] = tmp_pixel\n",
    "        tmp_label = labels.read(1)\n",
    "        y[i] = unpack('>B', tmp_label)[0]\n",
    "\n",
    "    images.close()\n",
    "    labels.close()\n",
    "    return (x, y)\n",
    "\n",
    "def displaychar(image):\n",
    "    plt.imshow(np.reshape(image, (28,28)), cmap=plt.cm.gray)\n",
    "    plt.axis('off')\n",
    "    #plt.show()"
   ]
  },
  {
   "cell_type": "code",
   "execution_count": 19,
   "metadata": {
    "collapsed": false
   },
   "outputs": [],
   "source": [
    "path = '/Users/mgalarny/Documents/youtube/DSE210_Probability_Statistics_Python/'\n",
    "\n",
    "train_img_path = path + 'train-images-idx3-ubyte' \n",
    "train_lbl_path = path + 'train-labels-idx1-ubyte' \n",
    "test_img_path = path + 't10k-images-idx3-ubyte' \n",
    "test_lbl_path = path + 't10k-labels-idx1-ubyte'\n",
    "\n",
    "X_train, Y_train = loadmnist(train_img_path, train_lbl_path)\n",
    "X_test, Y_test = loadmnist(test_img_path, test_lbl_path)"
   ]
  },
  {
   "cell_type": "code",
   "execution_count": 109,
   "metadata": {
    "collapsed": false
   },
   "outputs": [],
   "source": [
    "class GaussianClassify:\n",
    "    \n",
    "    def __init__(self):\n",
    "        self.mean = np.zeros((10, 784))\n",
    "        self.cov = np.zeros((10, 784, 784))\n",
    "        \n",
    "    def sort_by_number(self,train_img, train_label):\n",
    "        list_by_class = {i:[] for i in xrange(10)}\n",
    "        for i in xrange(len(train_label)):\n",
    "            class_img = train_label[i]\n",
    "            list_by_class[class_img].append(train_img[i])\n",
    "        return list_by_class\n",
    "\n",
    "    def find_mean_cov(self,list_by_class, i, c):\n",
    "        images = np.matrix(list_by_class[i])\n",
    "        total_pixels = images.shape[1] # should always be 784; total number of pixels \n",
    "        mean = np.mean(images, axis = 0)\n",
    "        self.mean[i] = mean\n",
    "        cov = np.cov(np.transpose(images)) + c * np.identity(total_pixels)\n",
    "        self.cov[i] = cov\n",
    "        return mean, cov\n",
    "\n",
    "    def test(self, test_image, test_label, mean, cov):\n",
    "        list_by_class = self.sort_by_number(test_image, test_label)\n",
    "        images = np.matrix(list_by_class)\n",
    "        test_img_array = np.array(test_image)\n",
    "        prob = []\n",
    "        for k in xrange(10):\n",
    "            images = np.matrix(list_by_class[k])\n",
    "            number_images = images.shape[0]\n",
    "            pi = float(number_images) / float(len(test_label)) \n",
    "            prob.append(np.log(pi) + multivariate_normal.logpdf(test_img_array,\n",
    "                                             mean=self.mean[k],\n",
    "                                             cov=self.cov[k]))\n",
    "        max_prob = np.argmax(prob, axis = 0)\n",
    "        self.boolean_label = [i!=j for i,j in zip(max_prob, test_label)]\n",
    "        self.max_prob = max_prob\n",
    "        self.test_label = test_label\n",
    "        self.prob = prob\n",
    "        error = 100 * np.sum([i!=j for i,j in zip(max_prob, test_label)])/float(len(test_label))\n",
    "        return error, max_prob, test_label, prob\n"
   ]
  },
  {
   "cell_type": "markdown",
   "metadata": {},
   "source": [
    "<h2 align=\"center\"> Smoothing through optimizing c value </h2>"
   ]
  },
  {
   "cell_type": "code",
   "execution_count": 110,
   "metadata": {
    "collapsed": false
   },
   "outputs": [
    {
     "name": "stdout",
     "output_type": "stream",
     "text": [
      "c: 1 Error rate:  15.88  %\n",
      "c: 10 Error rate:  12.26  %\n",
      "c: 100 Error rate:  8.05  %\n",
      "c: 1000 Error rate:  4.89  %\n",
      "c: 2000 Error rate:  4.37  %\n",
      "c: 2100 Error rate:  4.35  %\n",
      "c: 2200 Error rate:  4.36  %\n",
      "c: 2300 Error rate:  4.36  %\n",
      "c: 2400 Error rate:  4.35  %\n",
      "c: 2500 Error rate:  4.34  %\n",
      "c: 2600 Error rate:  4.31  %\n",
      "c: 2700 Error rate:  4.3  %\n",
      "c: 2800 Error rate:  4.29  %\n",
      "c: 2900 Error rate:  4.31  %\n",
      "c: 3000 Error rate:  4.35  %\n",
      "c: 3100 Error rate:  4.35  %\n",
      "c: 3200 Error rate:  4.36  %\n",
      "c: 3300 Error rate:  4.38  %\n",
      "c: 3400 Error rate:  4.35  %\n",
      "c: 3500 Error rate:  4.38  %\n",
      "c: 3600 Error rate:  4.36  %\n",
      "c: 3700 Error rate:  4.35  %\n",
      "c: 3800 Error rate:  4.34  %\n",
      "c: 3900 Error rate:  4.3  %\n",
      "c: 4000 Error rate:  4.31  %\n"
     ]
    }
   ],
   "source": [
    "error = []\n",
    "c_value = []\n",
    "c = 2000 # default value\n",
    "constant = [1,10,100,1000,2000,2100,2200,2300,2400,2500,2600,2700,2800,2900,3000,3100,3200,3300,3400,3500,3600,3700,3800,3900,4000]\n",
    "GC = GaussianClassify()\n",
    "list_by_class = GC.sort_by_number(X_train, Y_train)\n",
    "\n",
    "for c in constant:\n",
    "    for i in xrange(10):\n",
    "        GC.find_mean_cov(list_by_class, i, c)\n",
    "\n",
    "    err_rate, max_prob, test_label, prob = GC.test(X_test, Y_test, mean, cov)\n",
    "    print 'c:', c, \"Error rate: \", err_rate, \" %\" \n",
    "    error.append(err_rate)\n",
    "    c_value.append(c)"
   ]
  },
  {
   "cell_type": "code",
   "execution_count": 59,
   "metadata": {
    "collapsed": false
   },
   "outputs": [
    {
     "name": "stdout",
     "output_type": "stream",
     "text": [
      "The best c value for me was c = 2800 with a error rate of: 4.29 %\n"
     ]
    }
   ],
   "source": [
    "print \"The best c value for me was c =\",c_value[np.argmin(error)], \"with a error rate of:\", error[np.argmin(error)], \"%\""
   ]
  },
  {
   "cell_type": "markdown",
   "metadata": {},
   "source": [
    "<h2 align=\"center\">Best c value: 2800, error rate: 4.29 </h2> <p></p>"
   ]
  },
  {
   "cell_type": "code",
   "execution_count": 111,
   "metadata": {
    "collapsed": false
   },
   "outputs": [],
   "source": [
    "boolean_list = [i!=j for i,j in zip(max_prob, test_label)]\n",
    "index_error = [index for index, tf in enumerate(boolean_list) if tf]"
   ]
  },
  {
   "cell_type": "code",
   "execution_count": 136,
   "metadata": {
    "collapsed": false
   },
   "outputs": [
    {
     "data": {
      "image/png": "[encoded data removed]",
      "text/plain": [
       "<matplotlib.figure.Figure at 0x109807d10>"
      ]
     },
     "metadata": {},
     "output_type": "display_data"
    }
   ],
   "source": [
    "count = 0\n",
    "plt.figure(figsize=(10,5))\n",
    "for i in [73, 80, 111, 119, 151]:\n",
    "    count += 1\n",
    "    plt.subplot(1, 5, count)\n",
    "    plt.title(' %i, pred: %i ' % (test_label[index_error[i]], max_prob[index_error[i]]) , fontsize = 20)\n",
    "    displaychar(X_test[index_error[i]])"
   ]
  },
  {
   "cell_type": "code",
   "execution_count": 147,
   "metadata": {
    "collapsed": false
   },
   "outputs": [
    {
     "data": {
      "text/html": [
       "<div>\n",
       "<table border=\"1\" class=\"dataframe\">\n",
       "  <thead>\n",
       "    <tr style=\"text-align: right;\">\n",
       "      <th></th>\n",
       "      <th>73</th>\n",
       "      <th>80</th>\n",
       "      <th>111</th>\n",
       "      <th>119</th>\n",
       "      <th>151</th>\n",
       "    </tr>\n",
       "  </thead>\n",
       "  <tbody>\n",
       "    <tr>\n",
       "      <th>0</th>\n",
       "      <td>-4223.154046</td>\n",
       "      <td>-4235.493561</td>\n",
       "      <td>-4199.443401</td>\n",
       "      <td>-4189.854853</td>\n",
       "      <td>-4260.851682</td>\n",
       "    </tr>\n",
       "    <tr>\n",
       "      <th>1</th>\n",
       "      <td>-4189.005693</td>\n",
       "      <td>-4273.461298</td>\n",
       "      <td>-4080.113158</td>\n",
       "      <td>-4329.780832</td>\n",
       "      <td>-4477.407430</td>\n",
       "    </tr>\n",
       "    <tr>\n",
       "      <th>2</th>\n",
       "      <td>-4174.963632</td>\n",
       "      <td>-4222.829566</td>\n",
       "      <td>-4136.885762</td>\n",
       "      <td>-4149.806770</td>\n",
       "      <td>-4225.156626</td>\n",
       "    </tr>\n",
       "    <tr>\n",
       "      <th>3</th>\n",
       "      <td>-4175.487143</td>\n",
       "      <td>-4189.215302</td>\n",
       "      <td>-4149.401338</td>\n",
       "      <td>-4187.803792</td>\n",
       "      <td>-4223.117042</td>\n",
       "    </tr>\n",
       "    <tr>\n",
       "      <th>4</th>\n",
       "      <td>-4169.282148</td>\n",
       "      <td>-4142.716513</td>\n",
       "      <td>-4126.520789</td>\n",
       "      <td>-4172.388706</td>\n",
       "      <td>-4236.338734</td>\n",
       "    </tr>\n",
       "    <tr>\n",
       "      <th>5</th>\n",
       "      <td>-4203.749964</td>\n",
       "      <td>-4181.570761</td>\n",
       "      <td>-4178.808948</td>\n",
       "      <td>-4215.198234</td>\n",
       "      <td>-4223.095791</td>\n",
       "    </tr>\n",
       "    <tr>\n",
       "      <th>6</th>\n",
       "      <td>-4276.080889</td>\n",
       "      <td>-4278.602407</td>\n",
       "      <td>-4206.167506</td>\n",
       "      <td>-4228.735221</td>\n",
       "      <td>-4353.941623</td>\n",
       "    </tr>\n",
       "    <tr>\n",
       "      <th>7</th>\n",
       "      <td>-4111.870000</td>\n",
       "      <td>-4109.935105</td>\n",
       "      <td>-4089.337807</td>\n",
       "      <td>-4177.236776</td>\n",
       "      <td>-4294.949760</td>\n",
       "    </tr>\n",
       "    <tr>\n",
       "      <th>8</th>\n",
       "      <td>-4138.661136</td>\n",
       "      <td>-4179.540186</td>\n",
       "      <td>-4119.612502</td>\n",
       "      <td>-4156.345474</td>\n",
       "      <td>-4198.322281</td>\n",
       "    </tr>\n",
       "    <tr>\n",
       "      <th>9</th>\n",
       "      <td>-4117.665855</td>\n",
       "      <td>-4108.843635</td>\n",
       "      <td>-4110.986420</td>\n",
       "      <td>-4149.552638</td>\n",
       "      <td>-4215.944870</td>\n",
       "    </tr>\n",
       "  </tbody>\n",
       "</table>\n",
       "</div>"
      ],
      "text/plain": [
       "           73           80           111          119          151\n",
       "0 -4223.154046 -4235.493561 -4199.443401 -4189.854853 -4260.851682\n",
       "1 -4189.005693 -4273.461298 -4080.113158 -4329.780832 -4477.407430\n",
       "2 -4174.963632 -4222.829566 -4136.885762 -4149.806770 -4225.156626\n",
       "3 -4175.487143 -4189.215302 -4149.401338 -4187.803792 -4223.117042\n",
       "4 -4169.282148 -4142.716513 -4126.520789 -4172.388706 -4236.338734\n",
       "5 -4203.749964 -4181.570761 -4178.808948 -4215.198234 -4223.095791\n",
       "6 -4276.080889 -4278.602407 -4206.167506 -4228.735221 -4353.941623\n",
       "7 -4111.870000 -4109.935105 -4089.337807 -4177.236776 -4294.949760\n",
       "8 -4138.661136 -4179.540186 -4119.612502 -4156.345474 -4198.322281\n",
       "9 -4117.665855 -4108.843635 -4110.986420 -4149.552638 -4215.944870"
      ]
     },
     "execution_count": 147,
     "metadata": {},
     "output_type": "execute_result"
    }
   ],
   "source": [
    "import pandas as pd \n",
    "df = pd.DataFrame(prob)\n",
    "\n",
    "#[73,80,111,119,151]\n",
    "df = df[index_error[0:5]]\n",
    "df"
   ]
  },
  {
   "cell_type": "code",
   "execution_count": 144,
   "metadata": {
    "collapsed": false
   },
   "outputs": [
    {
     "name": "stdout",
     "output_type": "stream",
     "text": [
      "predictions:  7 9 1 9 8\n"
     ]
    }
   ],
   "source": [
    "print \"predictions: \", max_prob[index_error[0]], max_prob[index_error[1]], max_prob[index_error[2]], max_prob[index_error[3]], max_prob[index_error[4]]\n"
   ]
  },
  {
   "cell_type": "markdown",
   "metadata": {},
   "source": [
    "<h2 align=\"center\"> Actual (correspond to columns). Notice prediction is close to actual </h2>"
   ]
  },
  {
   "cell_type": "code",
   "execution_count": 146,
   "metadata": {
    "collapsed": false
   },
   "outputs": [
    {
     "data": {
      "text/html": [
       "<div>\n",
       "<table border=\"1\" class=\"dataframe\">\n",
       "  <thead>\n",
       "    <tr style=\"text-align: right;\">\n",
       "      <th></th>\n",
       "      <th>9</th>\n",
       "      <th>7</th>\n",
       "      <th>7</th>\n",
       "      <th>2</th>\n",
       "      <th>9</th>\n",
       "    </tr>\n",
       "  </thead>\n",
       "  <tbody>\n",
       "    <tr>\n",
       "      <th>0</th>\n",
       "      <td>-4223.154046</td>\n",
       "      <td>-4235.493561</td>\n",
       "      <td>-4199.443401</td>\n",
       "      <td>-4189.854853</td>\n",
       "      <td>-4260.851682</td>\n",
       "    </tr>\n",
       "    <tr>\n",
       "      <th>1</th>\n",
       "      <td>-4189.005693</td>\n",
       "      <td>-4273.461298</td>\n",
       "      <td>-4080.113158</td>\n",
       "      <td>-4329.780832</td>\n",
       "      <td>-4477.407430</td>\n",
       "    </tr>\n",
       "    <tr>\n",
       "      <th>2</th>\n",
       "      <td>-4174.963632</td>\n",
       "      <td>-4222.829566</td>\n",
       "      <td>-4136.885762</td>\n",
       "      <td>-4149.806770</td>\n",
       "      <td>-4225.156626</td>\n",
       "    </tr>\n",
       "    <tr>\n",
       "      <th>3</th>\n",
       "      <td>-4175.487143</td>\n",
       "      <td>-4189.215302</td>\n",
       "      <td>-4149.401338</td>\n",
       "      <td>-4187.803792</td>\n",
       "      <td>-4223.117042</td>\n",
       "    </tr>\n",
       "    <tr>\n",
       "      <th>4</th>\n",
       "      <td>-4169.282148</td>\n",
       "      <td>-4142.716513</td>\n",
       "      <td>-4126.520789</td>\n",
       "      <td>-4172.388706</td>\n",
       "      <td>-4236.338734</td>\n",
       "    </tr>\n",
       "    <tr>\n",
       "      <th>5</th>\n",
       "      <td>-4203.749964</td>\n",
       "      <td>-4181.570761</td>\n",
       "      <td>-4178.808948</td>\n",
       "      <td>-4215.198234</td>\n",
       "      <td>-4223.095791</td>\n",
       "    </tr>\n",
       "    <tr>\n",
       "      <th>6</th>\n",
       "      <td>-4276.080889</td>\n",
       "      <td>-4278.602407</td>\n",
       "      <td>-4206.167506</td>\n",
       "      <td>-4228.735221</td>\n",
       "      <td>-4353.941623</td>\n",
       "    </tr>\n",
       "    <tr>\n",
       "      <th>7</th>\n",
       "      <td>-4111.870000</td>\n",
       "      <td>-4109.935105</td>\n",
       "      <td>-4089.337807</td>\n",
       "      <td>-4177.236776</td>\n",
       "      <td>-4294.949760</td>\n",
       "    </tr>\n",
       "    <tr>\n",
       "      <th>8</th>\n",
       "      <td>-4138.661136</td>\n",
       "      <td>-4179.540186</td>\n",
       "      <td>-4119.612502</td>\n",
       "      <td>-4156.345474</td>\n",
       "      <td>-4198.322281</td>\n",
       "    </tr>\n",
       "    <tr>\n",
       "      <th>9</th>\n",
       "      <td>-4117.665855</td>\n",
       "      <td>-4108.843635</td>\n",
       "      <td>-4110.986420</td>\n",
       "      <td>-4149.552638</td>\n",
       "      <td>-4215.944870</td>\n",
       "    </tr>\n",
       "  </tbody>\n",
       "</table>\n",
       "</div>"
      ],
      "text/plain": [
       "             9            7            7            2            9\n",
       "0 -4223.154046 -4235.493561 -4199.443401 -4189.854853 -4260.851682\n",
       "1 -4189.005693 -4273.461298 -4080.113158 -4329.780832 -4477.407430\n",
       "2 -4174.963632 -4222.829566 -4136.885762 -4149.806770 -4225.156626\n",
       "3 -4175.487143 -4189.215302 -4149.401338 -4187.803792 -4223.117042\n",
       "4 -4169.282148 -4142.716513 -4126.520789 -4172.388706 -4236.338734\n",
       "5 -4203.749964 -4181.570761 -4178.808948 -4215.198234 -4223.095791\n",
       "6 -4276.080889 -4278.602407 -4206.167506 -4228.735221 -4353.941623\n",
       "7 -4111.870000 -4109.935105 -4089.337807 -4177.236776 -4294.949760\n",
       "8 -4138.661136 -4179.540186 -4119.612502 -4156.345474 -4198.322281\n",
       "9 -4117.665855 -4108.843635 -4110.986420 -4149.552638 -4215.944870"
      ]
     },
     "execution_count": 146,
     "metadata": {},
     "output_type": "execute_result"
    }
   ],
   "source": [
    "df"
   ]
  },
  {
   "cell_type": "code",
   "execution_count": 135,
   "metadata": {
    "collapsed": false
   },
   "outputs": [
    {
     "data": {
      "text/plain": [
       "[73, 80, 111, 119, 151]"
      ]
     },
     "execution_count": 135,
     "metadata": {},
     "output_type": "execute_result"
    }
   ],
   "source": [
    "index_error[0:5]"
   ]
  },
  {
   "cell_type": "code",
   "execution_count": null,
   "metadata": {
    "collapsed": true
   },
   "outputs": [],
   "source": []
  }
 ],
 "metadata": {
  "kernelspec": {
   "display_name": "Python 2",
   "language": "python",
   "name": "python2"
  },
  "language_info": {
   "codemirror_mode": {
    "name": "ipython",
    "version": 2
   },
   "file_extension": ".py",
   "mimetype": "text/x-python",
   "name": "python",
   "nbconvert_exporter": "python",
   "pygments_lexer": "ipython2",
   "version": "2.7.11"
  }
 },
 "nbformat": 4,
 "nbformat_minor": 0
}
